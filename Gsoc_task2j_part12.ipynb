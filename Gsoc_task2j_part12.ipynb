{
  "nbformat": 4,
  "nbformat_minor": 0,
  "metadata": {
    "colab": {
      "provenance": [],
      "machine_shape": "hm",
      "gpuType": "A100"
    },
    "kernelspec": {
      "name": "python3",
      "display_name": "Python 3"
    },
    "language_info": {
      "name": "python"
    },
    "accelerator": "GPU"
  },
  "cells": [
    {
      "cell_type": "code",
      "execution_count": null,
      "metadata": {
        "colab": {
          "base_uri": "https://localhost:8080/",
          "height": 515
        },
        "id": "yzbDwwgApanT",
        "outputId": "ed0b4c37-30aa-493c-939d-5c6fc465ca40"
      },
      "outputs": [
        {
          "output_type": "stream",
          "name": "stderr",
          "text": [
            "100%|██████████| 9.91M/9.91M [00:00<00:00, 42.5MB/s]\n",
            "100%|██████████| 28.9k/28.9k [00:00<00:00, 1.20MB/s]\n",
            "100%|██████████| 1.65M/1.65M [00:00<00:00, 10.7MB/s]\n",
            "100%|██████████| 4.54k/4.54k [00:00<00:00, 9.45MB/s]\n"
          ]
        },
        {
          "output_type": "stream",
          "name": "stdout",
          "text": [
            "Dataset saved to rotated_mnist.npz with 152400 samples.\n"
          ]
        },
        {
          "output_type": "display_data",
          "data": {
            "text/plain": [
              "<Figure size 640x480 with 1 Axes>"
            ],
            "image/png": "[encoded data removed]"
          },
          "metadata": {}
        }
      ],
      "source": [
        "# Part 1 creating the dataset of raotated mnist\n",
        "import os\n",
        "import numpy as np\n",
        "import torch\n",
        "import random\n",
        "import matplotlib.pyplot as plt\n",
        "from torchvision import datasets, transforms\n",
        "from torchvision.transforms.functional import rotate\n",
        "from PIL import Image\n",
        "\n",
        "# Define parameters\n",
        "rotation_angles = [30 * i for i in range(12)]  # 0 to 330 degrees\n",
        "save_path = \"rotated_mnist.npz\"\n",
        "selected_digits = {1, 2}  # Use only digits 1 and 2\n",
        "\n",
        "# Load MNIST dataset\n",
        "transform = transforms.Compose([\n",
        "    transforms.ToTensor()\n",
        "])\n",
        "mnist_dataset = datasets.MNIST(root=\"./data\", train=True, download=True, transform=transform)\n",
        "\n",
        "# Filter for digits 1 and 2\n",
        "dataset_filtered = [(image, label) for image, label in mnist_dataset if label in selected_digits]\n",
        "\n",
        "# Function to rotate images\n",
        "def rotate_dataset(dataset, angles):\n",
        "    rotated_dataset = []\n",
        "    for image, label in dataset:\n",
        "        for angle in angles:\n",
        "            rotated_image = rotate(image, angle)\n",
        "            rotated_dataset.append((rotated_image, label))\n",
        "    return rotated_dataset\n",
        "\n",
        "# Apply rotations\n",
        "rotated_dataset = rotate_dataset(dataset_filtered, rotation_angles)\n",
        "\n",
        "# Shuffle dataset\n",
        "random.shuffle(rotated_dataset)\n",
        "\n",
        "# Convert dataset to numpy arrays\n",
        "images, labels = zip(*rotated_dataset)\n",
        "images = np.array([img.numpy() for img in images])\n",
        "labels = np.array(labels)\n",
        "\n",
        "# Save dataset\n",
        "np.savez_compressed(save_path, images=images, labels=labels)\n",
        "print(f\"Dataset saved to {save_path} with {len(images)} samples.\")\n",
        "\n",
        "# Display example image\n",
        "example_image, example_label = rotated_dataset[0]\n",
        "plt.imshow(example_image.squeeze(), cmap='gray')\n",
        "plt.title(f\"Label: {example_label}\")\n",
        "plt.axis('off')\n",
        "plt.show()\n"
      ]
    },
    {
      "cell_type": "code",
      "source": [
        "#Part 2 - The VAE is trained below on the created dataset\n",
        "\n",
        "import torch\n",
        "import torch.nn as nn\n",
        "import torch.optim as optim\n",
        "import numpy as np\n",
        "import matplotlib.pyplot as plt\n",
        "from torch.utils.data import DataLoader, TensorDataset\n",
        "\n",
        "# Load the rotated MNIST dataset\n",
        "npzfile = np.load(\"rotated_mnist.npz\")\n",
        "images, labels = npzfile[\"images\"], npzfile[\"labels\"]\n",
        "\n",
        "print(len(images))\n",
        "# Using only 20000 images due to compute issues\n",
        "images = images[:20000]\n",
        "labels = labels[:20000]\n",
        "\n",
        "# Normalize images\n",
        "images = torch.tensor(images, dtype=torch.float32)\n",
        "labels = torch.tensor(labels, dtype=torch.long)\n",
        "dataset = TensorDataset(images, labels)\n",
        "dataloader = DataLoader(dataset, batch_size=1, shuffle=True)\n",
        "\n",
        "# Define the VAE model\n",
        "class VAE(nn.Module):\n",
        "    def __init__(self, latent_dim=16):\n",
        "        super(VAE, self).__init__()\n",
        "        self.latent_dim = latent_dim\n",
        "\n",
        "        # Encoder\n",
        "        self.encoder = nn.Sequential(\n",
        "            nn.Flatten(),\n",
        "            nn.Linear(28*28, 256),\n",
        "            nn.ReLU(),\n",
        "            nn.Linear(256, 128),\n",
        "            nn.ReLU()\n",
        "        )\n",
        "\n",
        "        self.fc_mu = nn.Linear(128, latent_dim)\n",
        "        self.fc_logvar = nn.Linear(128, latent_dim)\n",
        "\n",
        "        # Decoder\n",
        "        self.decoder = nn.Sequential(\n",
        "            nn.Linear(latent_dim, 128),\n",
        "            nn.ReLU(),\n",
        "            nn.Linear(128, 256),\n",
        "            nn.ReLU(),\n",
        "            nn.Linear(256, 28*28),\n",
        "            nn.Sigmoid()\n",
        "        )\n",
        "\n",
        "    def reparameterize(self, mu, logvar):\n",
        "        std = torch.exp(0.5 * logvar)\n",
        "        eps = torch.randn_like(std)\n",
        "        return mu + eps * std\n",
        "\n",
        "    def forward(self, x):\n",
        "        encoded = self.encoder(x)\n",
        "        mu, logvar = self.fc_mu(encoded), self.fc_logvar(encoded)\n",
        "        z = self.reparameterize(mu, logvar)\n",
        "        decoded = self.decoder(z)\n",
        "        return decoded, mu, logvar\n",
        "\n",
        "# Define loss function\n",
        "def vae_loss(reconstructed, original, mu, logvar):\n",
        "    recon_loss = nn.functional.mse_loss(reconstructed, original.view(-1, 28*28), reduction='sum')\n",
        "    kl_div = -0.5 * torch.sum(1 + logvar - mu.pow(2) - logvar.exp())\n",
        "    return recon_loss + kl_div\n",
        "\n",
        "# Initialize model, optimizer\n",
        "latent_dim = 16\n",
        "vae = VAE(latent_dim=latent_dim)\n",
        "optimizer = optim.Adam(vae.parameters(), lr=0.001)\n",
        "\n",
        "# Training loop\n",
        "num_epochs = 10\n",
        "vae.train()\n",
        "for epoch in range(num_epochs):\n",
        "    total_loss = 0\n",
        "    for batch, _ in dataloader:\n",
        "        batch = batch.view(-1, 28*28)\n",
        "        optimizer.zero_grad()\n",
        "        reconstructed, mu, logvar = vae(batch)\n",
        "        loss = vae_loss(reconstructed, batch, mu, logvar)\n",
        "        loss.backward()\n",
        "        optimizer.step()\n",
        "        total_loss += loss.item()\n",
        "    print(f\"Epoch {epoch+1}, Loss: {total_loss/len(dataset):.4f}\")\n",
        "\n",
        "print(\"Training complete!\")\n",
        "\n",
        "# Testing VAE on 1-2 images\n",
        "vae.eval()\n",
        "with torch.no_grad():\n",
        "    for i in range(2):\n",
        "        img = images[i].view(-1, 28*28)\n",
        "        reconstructed, _, _ = vae(img)\n",
        "        reconstructed = reconstructed.view(28, 28).numpy()\n",
        "\n",
        "        # Plot original and reconstructed images\n",
        "        plt.subplot(1, 2, 1)\n",
        "        plt.imshow(images[i].squeeze(), cmap='gray')\n",
        "        plt.title(\"Original\")\n",
        "        plt.axis(\"off\")\n",
        "\n",
        "        plt.subplot(1, 2, 2)\n",
        "        plt.imshow(reconstructed, cmap='gray')\n",
        "        plt.title(\"Reconstructed\")\n",
        "        plt.axis(\"off\")\n",
        "\n",
        "        plt.show()\n"
      ],
      "metadata": {
        "colab": {
          "base_uri": "https://localhost:8080/",
          "height": 759
        },
        "id": "R9vzLXKHphP0",
        "outputId": "5343654d-fb74-4e60-d87c-5254c2879c80"
      },
      "execution_count": null,
      "outputs": [
        {
          "output_type": "stream",
          "name": "stdout",
          "text": [
            "152400\n",
            "Epoch 1, Loss: 40.1859\n",
            "Epoch 2, Loss: 35.4195\n",
            "Epoch 3, Loss: 33.8267\n",
            "Epoch 4, Loss: 33.0715\n",
            "Epoch 5, Loss: 32.6454\n",
            "Epoch 6, Loss: 32.3865\n",
            "Epoch 7, Loss: 32.2292\n",
            "Epoch 8, Loss: 32.1184\n",
            "Epoch 9, Loss: 31.9813\n",
            "Epoch 10, Loss: 31.9281\n",
            "Training complete!\n"
          ]
        },
        {
          "output_type": "display_data",
          "data": {
            "text/plain": [
              "<Figure size 640x480 with 2 Axes>"
            ],
            "image/png": "[encoded data removed]"
          },
          "metadata": {}
        },
        {
          "output_type": "display_data",
          "data": {
            "text/plain": [
              "<Figure size 640x480 with 2 Axes>"
            ],
            "image/png": "[encoded data removed]"
          },
          "metadata": {}
        }
      ]
    },
    {
      "cell_type": "code",
      "source": [
        "# Part 2 - MLP trained below on latent space\n",
        "class MLP(nn.Module):\n",
        "    def __init__(self, latent_dim):\n",
        "        super(MLP, self).__init__()\n",
        "        self.model = nn.Sequential(\n",
        "            nn.Linear(latent_dim, 64),\n",
        "            nn.ReLU(),\n",
        "            nn.Linear(64, 64),\n",
        "            nn.ReLU(),\n",
        "            nn.Linear(64, latent_dim)\n",
        "        )\n",
        "\n",
        "    def forward(self, z):\n",
        "        return self.model(z)\n",
        "\n",
        "mlp = MLP(latent_dim)\n",
        "mlp_optimizer = optim.Adam(mlp.parameters(), lr=0.001)\n",
        "mlp_loss_fn = nn.MSELoss()\n",
        "\n",
        "# Prepare dataset of latent space transformations\n",
        "latent_pairs = []\n",
        "vae.eval()\n",
        "with torch.no_grad():\n",
        "    for img in images:\n",
        "        img = img.view(1, 1, 28, 28)\n",
        "        img_flat = img.view(-1, 28*28)\n",
        "        _, mu, _ = vae(img_flat)\n",
        "        for angle in range(30, 60, 30):\n",
        "            rotated_img = rotate(img, angle)\n",
        "            rotated_img_flat = rotated_img.view(-1, 28*28)\n",
        "            _, rotated_mu, _ = vae(rotated_img_flat)\n",
        "            latent_pairs.append((mu.squeeze(0), rotated_mu.squeeze(0)))\n",
        "\n",
        "# Convert to tensors\n",
        "latent_x = torch.stack([pair[0] for pair in latent_pairs])\n",
        "latent_y = torch.stack([pair[1] for pair in latent_pairs])\n",
        "mlp_dataset = TensorDataset(latent_x, latent_y)\n",
        "mlp_dataloader = DataLoader(mlp_dataset, batch_size=1, shuffle=True)\n",
        "\n",
        "# Train MLP\n",
        "num_epochs = 20\n",
        "mlp.train()\n",
        "for epoch in range(num_epochs):\n",
        "    total_loss = 0\n",
        "    for x, y in mlp_dataloader:\n",
        "        mlp_optimizer.zero_grad()\n",
        "        y_pred = mlp(x)\n",
        "        loss = mlp_loss_fn(y_pred, y)\n",
        "        loss.backward()\n",
        "        mlp_optimizer.step()\n",
        "        total_loss += loss.item()\n",
        "    print(f\"MLP Epoch {epoch+1}, Loss: {total_loss/len(mlp_dataset):.4f}\")\n",
        "\n",
        "print(\"MLP Training complete!\")\n"
      ],
      "metadata": {
        "colab": {
          "base_uri": "https://localhost:8080/"
        },
        "id": "J9OJduX-p2ew",
        "outputId": "32d183ea-25d6-4a8e-ccb0-d3ce0aa1acc5"
      },
      "execution_count": null,
      "outputs": [
        {
          "output_type": "stream",
          "name": "stdout",
          "text": [
            "MLP Epoch 1, Loss: 0.0228\n",
            "MLP Epoch 2, Loss: 0.0145\n",
            "MLP Epoch 3, Loss: 0.0134\n",
            "MLP Epoch 4, Loss: 0.0128\n",
            "MLP Epoch 5, Loss: 0.0124\n",
            "MLP Epoch 6, Loss: 0.0122\n",
            "MLP Epoch 7, Loss: 0.0120\n",
            "MLP Epoch 8, Loss: 0.0118\n",
            "MLP Epoch 9, Loss: 0.0117\n",
            "MLP Epoch 10, Loss: 0.0116\n",
            "MLP Epoch 11, Loss: 0.0115\n",
            "MLP Epoch 12, Loss: 0.0114\n",
            "MLP Epoch 13, Loss: 0.0113\n",
            "MLP Epoch 14, Loss: 0.0112\n",
            "MLP Epoch 15, Loss: 0.0112\n",
            "MLP Epoch 16, Loss: 0.0111\n",
            "MLP Epoch 17, Loss: 0.0110\n",
            "MLP Epoch 18, Loss: 0.0110\n",
            "MLP Epoch 19, Loss: 0.0109\n",
            "MLP Epoch 20, Loss: 0.0110\n",
            "MLP Training complete!\n"
          ]
        }
      ]
    },
    {
      "cell_type": "code",
      "source": [
        "# Test the MLP and visualize results\n",
        "vae.eval()\n",
        "mlp.eval()\n",
        "\n",
        "def visualize_results(img, angle):\n",
        "    img = img.view(1, 1, 28, 28)\n",
        "    img_flat = img.view(-1, 28*28)\n",
        "\n",
        "    # Get original latent vector\n",
        "    _, mu, _ = vae(img_flat)\n",
        "\n",
        "    # Rotate image and get true rotated latent vector\n",
        "    rotated_img = rotate(img, angle)\n",
        "    rotated_img_flat = rotated_img.view(-1, 28*28)\n",
        "    _, rotated_mu, _ = vae(rotated_img_flat)\n",
        "\n",
        "    # Predict rotated latent vector using MLP\n",
        "    predicted_rotated_mu = mlp(mu)\n",
        "\n",
        "    # Decode latent vectors back to image space\n",
        "    decoded_original = vae.decoder(mu).view(28, 28).detach().numpy()\n",
        "    decoded_true_rotated = vae.decoder(rotated_mu).view(28, 28).detach().numpy()\n",
        "    decoded_predicted_rotated = vae.decoder(predicted_rotated_mu).view(28, 28).detach().numpy()\n",
        "\n",
        "    # Plot the images\n",
        "    fig, axs = plt.subplots(1, 3, figsize=(10, 4))\n",
        "    axs[0].imshow(decoded_original, cmap=\"gray\")\n",
        "    axs[0].set_title(\"Original (Decoded)\")\n",
        "    axs[0].axis(\"off\")\n",
        "\n",
        "    axs[1].imshow(decoded_true_rotated, cmap=\"gray\")\n",
        "    axs[1].set_title(f\"True Rotated ({angle}°)\")\n",
        "    axs[1].axis(\"off\")\n",
        "\n",
        "    axs[2].imshow(decoded_predicted_rotated, cmap=\"gray\")\n",
        "    axs[2].set_title(f\"Predicted Rotated ({angle}°)\")\n",
        "    axs[2].axis(\"off\")\n",
        "\n",
        "    plt.show()\n",
        "\n",
        "# Run visualization on a test image with a 30° rotation\n",
        "test_img = images[900]  # Select an image\n",
        "visualize_results(test_img, 30)\n",
        "\n"
      ],
      "metadata": {
        "colab": {
          "base_uri": "https://localhost:8080/",
          "height": 287
        },
        "id": "oVhsl5do3yYR",
        "outputId": "50176b15-1916-43eb-b42c-9097eaa13d30"
      },
      "execution_count": null,
      "outputs": [
        {
          "output_type": "display_data",
          "data": {
            "text/plain": [
              "<Figure size 1000x400 with 3 Axes>"
            ],
            "image/png": "[encoded data removed]"
          },
          "metadata": {}
        }
      ]
    }
  ]
}